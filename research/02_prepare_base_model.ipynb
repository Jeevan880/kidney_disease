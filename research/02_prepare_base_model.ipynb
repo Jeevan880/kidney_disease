{
 "cells": [
  {
   "cell_type": "code",
   "execution_count": 1,
   "id": "ea2e56c5",
   "metadata": {},
   "outputs": [
    {
     "data": {
      "text/plain": [
       "'d:\\\\Jeevan\\\\VSCode\\\\Text_summarization\\\\kidney_disease\\\\research'"
      ]
     },
     "execution_count": 1,
     "metadata": {},
     "output_type": "execute_result"
    }
   ],
   "source": [
    "import os\n",
    "%pwd"
   ]
  },
  {
   "cell_type": "code",
   "execution_count": 2,
   "id": "2edaf94a",
   "metadata": {},
   "outputs": [
    {
     "data": {
      "text/plain": [
       "'d:\\\\Jeevan\\\\VSCode\\\\Text_summarization\\\\kidney_disease'"
      ]
     },
     "execution_count": 2,
     "metadata": {},
     "output_type": "execute_result"
    }
   ],
   "source": [
    "os.chdir('../')\n",
    "%pwd"
   ]
  },
  {
   "cell_type": "code",
   "execution_count": 3,
   "id": "80d5fd09",
   "metadata": {},
   "outputs": [],
   "source": [
    "from dataclasses import dataclass\n",
    "from pathlib import Path\n",
    "\n",
    "@dataclass\n",
    "class PrepareBaseModelConfig:\n",
    "    root_dir:Path\n",
    "    base_model_path:Path\n",
    "    updated_base_model_path:Path\n",
    "    params_image_size:list\n",
    "    params_learning_rate:float\n",
    "    params_include_top:bool\n",
    "    params_weights:float\n",
    "    params_classes:int\n",
    "    "
   ]
  },
  {
   "cell_type": "code",
   "execution_count": 4,
   "id": "bd8be862",
   "metadata": {},
   "outputs": [],
   "source": [
    "from kidney_disease.constant import *\n",
    "from kidney_disease.utils.common import create_directories,read_yaml"
   ]
  },
  {
   "cell_type": "code",
   "execution_count": null,
   "id": "7052791e",
   "metadata": {},
   "outputs": [],
   "source": [
    "class ConfigurationManager:\n",
    "    def __init__(self,config_filepath=CONFIG_FILE_PATH,params_filepath=PARAMS_FILE_PATH):\n",
    "        self.config=read_yaml(config_filepath)\n",
    "        self.params=read_yaml(params_filepath)\n",
    "\n",
    "        create_directories([self.config.artifacts_root])\n",
    "    def prepare_base_model_config(self)->PrepareBaseModelConfig:\n",
    "        config=self.config.prepare_base_model\n",
    "\n",
    "        create_directories([config.root_dir])\n",
    "\n",
    "        base_model=PrepareBaseModelConfig(\n",
    "            root_dir=Path(config.root_dir),\n",
    "            base_model_path=Path(config.base_model_path),\n",
    "            updated_base_model_path=Path(config.updated_base_model_path),\n",
    "            params_image_size=self.params.IMAGE_SIZE,\n",
    "            params_learning_rate=self.params.LEARNING_RATE,\n",
    "            params_include_top=self.params.INCLUDE_TOP,\n",
    "            params_weights=self.params.WEIGHTS,\n",
    "            params_classes=self.params.CLASSES,\n",
    "        )\n",
    "        return base_model"
   ]
  },
  {
   "cell_type": "code",
   "execution_count": 6,
   "id": "aa19e2f0",
   "metadata": {},
   "outputs": [],
   "source": [
    "import zipfile\n",
    "import urllib.request as request\n",
    "import tensorflow as tf"
   ]
  },
  {
   "cell_type": "code",
   "execution_count": 7,
   "id": "4228c0b3",
   "metadata": {},
   "outputs": [],
   "source": [
    "class PrepareBaseModel:\n",
    "    def __init__(self,config: PrepareBaseModelConfig):\n",
    "        self.config=config\n",
    "\n",
    "    @staticmethod\n",
    "    def save_model(path:Path, model:tf.keras.Model):\n",
    "        model.save(path)\n",
    "    def get_base_model(self):\n",
    "        self.model=tf.keras.applications.vgg16.VGG16(\n",
    "            input_shape=self.config.params_image_size,\n",
    "            include_top=self.config.params_include_top,\n",
    "            weights=self.config.params_weights\n",
    "        )\n",
    "        self.save_model(path=self.config.base_model_path,model=self.model)\n",
    "    \n",
    "    def _prepare_base_model(self,free_all,freeze_till,model,learning_rate,classes):\n",
    "        if free_all:\n",
    "            for layer in model.layers:\n",
    "                model.trainable=False\n",
    "        elif (freeze_till is not None) and freeze_till>0:\n",
    "            for layer in model.layers[:-freeze_till]:\n",
    "                layer.trainable=False\n",
    "        \n",
    "        flatten_in=tf.keras.layers.Flatten()(model.output)\n",
    "        prediction=tf.keras.layers.Dense(\n",
    "            activation=\"softmax\",\n",
    "            units=classes\n",
    "        )(flatten_in)\n",
    "\n",
    "        full_model=tf.keras.models.Model(inputs=model.input,outputs=prediction)\n",
    "\n",
    "        full_model.compile(\n",
    "            optimizer=tf.keras.optimizers.SGD(learning_rate=learning_rate),\n",
    "            loss=tf.keras.losses.CategoricalCrossentropy(),\n",
    "            metrics=[\"accuracy\"]\n",
    "        )\n",
    "        full_model.summary()\n",
    "        return full_model\n",
    "    \n",
    "    def update_base_model(self):\n",
    "        self.full_model=self._prepare_base_model(\n",
    "            free_all=True,\n",
    "            freeze_till=None,\n",
    "            model=self.model,\n",
    "            learning_rate=self.config.params_learning_rate,\n",
    "            classes=self.config.params_classes\n",
    "        )\n",
    "        self.save_model(path=self.config.updated_base_model_path,model=self.full_model)"
   ]
  },
  {
   "cell_type": "code",
   "execution_count": 9,
   "metadata": {},
   "outputs": [
    {
     "name": "stdout",
     "output_type": "stream",
     "text": [
      "Loading configuration from config\\config.yaml and params.yaml\n",
      "[2025-04-10 22:56:38,794: INFO: common: yaml file: config\\config.yaml loaded successfully]\n",
      "[2025-04-10 22:56:38,799: INFO: common: yaml file: params.yaml loaded successfully]\n",
      "[2025-04-10 22:56:38,803: INFO: common: created directory at: artifacts]\n",
      "[2025-04-10 22:56:38,809: INFO: common: created directory at: artifacts/prepare_base_model]\n",
      "Downloading data from https://storage.googleapis.com/tensorflow/keras-applications/vgg16/vgg16_weights_tf_dim_ordering_tf_kernels_notop.h5\n",
      "58889256/58889256 [==============================] - 9s 0us/step\n",
      "[2025-04-10 22:56:49,544: WARNING: saving_utils: Compiled the loaded model, but the compiled metrics have yet to be built. `model.compile_metrics` will be empty until you train or evaluate the model.]\n",
      "Model: \"model\"\n",
      "_________________________________________________________________\n",
      " Layer (type)                Output Shape              Param #   \n",
      "=================================================================\n",
      " input_1 (InputLayer)        [(None, 224, 224, 3)]     0         \n",
      "                                                                 \n",
      " block1_conv1 (Conv2D)       (None, 224, 224, 64)      1792      \n",
      "                                                                 \n",
      " block1_conv2 (Conv2D)       (None, 224, 224, 64)      36928     \n",
      "                                                                 \n",
      " block1_pool (MaxPooling2D)  (None, 112, 112, 64)      0         \n",
      "                                                                 \n",
      " block2_conv1 (Conv2D)       (None, 112, 112, 128)     73856     \n",
      "                                                                 \n",
      " block2_conv2 (Conv2D)       (None, 112, 112, 128)     147584    \n",
      "                                                                 \n",
      " block2_pool (MaxPooling2D)  (None, 56, 56, 128)       0         \n",
      "                                                                 \n",
      " block3_conv1 (Conv2D)       (None, 56, 56, 256)       295168    \n",
      "                                                                 \n",
      " block3_conv2 (Conv2D)       (None, 56, 56, 256)       590080    \n",
      "                                                                 \n",
      " block3_conv3 (Conv2D)       (None, 56, 56, 256)       590080    \n",
      "                                                                 \n",
      " block3_pool (MaxPooling2D)  (None, 28, 28, 256)       0         \n",
      "                                                                 \n",
      " block4_conv1 (Conv2D)       (None, 28, 28, 512)       1180160   \n",
      "                                                                 \n",
      " block4_conv2 (Conv2D)       (None, 28, 28, 512)       2359808   \n",
      "                                                                 \n",
      " block4_conv3 (Conv2D)       (None, 28, 28, 512)       2359808   \n",
      "                                                                 \n",
      " block4_pool (MaxPooling2D)  (None, 14, 14, 512)       0         \n",
      "                                                                 \n",
      " block5_conv1 (Conv2D)       (None, 14, 14, 512)       2359808   \n",
      "                                                                 \n",
      " block5_conv2 (Conv2D)       (None, 14, 14, 512)       2359808   \n",
      "                                                                 \n",
      " block5_conv3 (Conv2D)       (None, 14, 14, 512)       2359808   \n",
      "                                                                 \n",
      " block5_pool (MaxPooling2D)  (None, 7, 7, 512)         0         \n",
      "                                                                 \n",
      " flatten (Flatten)           (None, 25088)             0         \n",
      "                                                                 \n",
      " dense (Dense)               (None, 2)                 50178     \n",
      "                                                                 \n",
      "=================================================================\n",
      "Total params: 14,764,866\n",
      "Trainable params: 50,178\n",
      "Non-trainable params: 14,714,688\n",
      "_________________________________________________________________\n"
     ]
    }
   ],
   "source": [
    "\n",
    "try:\n",
    "    config=ConfigurationManager()\n",
    "    prepare_base_model_config=config.prepare_base_model_config()\n",
    "    prepare_base_model=PrepareBaseModel(config=prepare_base_model_config)\n",
    "    prepare_base_model.get_base_model()\n",
    "    prepare_base_model.update_base_model()\n",
    "except ValueError as e:\n",
    "    raise e"
   ]
  },
  {
   "cell_type": "code",
   "execution_count": null,
   "id": "5e7f1046",
   "metadata": {},
   "outputs": [],
   "source": []
  },
  {
   "cell_type": "code",
   "execution_count": null,
   "id": "d32c5f93",
   "metadata": {},
   "outputs": [],
   "source": []
  }
 ],
 "metadata": {
  "kernelspec": {
   "display_name": ".venv",
   "language": "python",
   "name": "python3"
  },
  "language_info": {
   "codemirror_mode": {
    "name": "ipython",
    "version": 3
   },
   "file_extension": ".py",
   "mimetype": "text/x-python",
   "name": "python",
   "nbconvert_exporter": "python",
   "pygments_lexer": "ipython3",
   "version": "3.11.9"
  }
 },
 "nbformat": 4,
 "nbformat_minor": 5
}
