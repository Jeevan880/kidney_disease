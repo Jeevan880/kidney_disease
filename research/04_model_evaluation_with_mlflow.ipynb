{
 "cells": [
  {
   "cell_type": "code",
   "execution_count": 1,
   "id": "939311cc",
   "metadata": {},
   "outputs": [
    {
     "data": {
      "text/plain": [
       "'d:\\\\Jeevan\\\\VSCode\\\\Text_summarization\\\\kidney_disease\\\\research'"
      ]
     },
     "execution_count": 1,
     "metadata": {},
     "output_type": "execute_result"
    }
   ],
   "source": [
    "import os\n",
    "%pwd"
   ]
  },
  {
   "cell_type": "code",
   "execution_count": 2,
   "id": "0e8d3ddb",
   "metadata": {},
   "outputs": [
    {
     "data": {
      "text/plain": [
       "'d:\\\\Jeevan\\\\VSCode\\\\Text_summarization\\\\kidney_disease'"
      ]
     },
     "execution_count": 2,
     "metadata": {},
     "output_type": "execute_result"
    }
   ],
   "source": [
    "os.chdir('../')\n",
    "%pwd"
   ]
  },
  {
   "cell_type": "code",
   "execution_count": 3,
   "id": "c2af3d62",
   "metadata": {},
   "outputs": [],
   "source": [
    "os.environ[\"MLFLOW_TRACKING_URI\"] = \"https://dagshub.com/Jeevan880/kidney_disease.mlflow\"\n",
    "os.environ[\"MLFLOW_TRACKING_USERNAME\"] = \"Jeevan880\"\n",
    "os.environ[\"MLFLOW_TRACKING_PASSWORD\"] = \"d44b672f466e4ad3749288c4810b53ae4108f713\""
   ]
  },
  {
   "cell_type": "code",
   "execution_count": 4,
   "id": "c308e616",
   "metadata": {},
   "outputs": [],
   "source": [
    "import tensorflow as tf"
   ]
  },
  {
   "cell_type": "code",
   "execution_count": 5,
   "metadata": {},
   "outputs": [],
   "source": [
    "model=tf.keras.models.load_model(\"artifacts/training/model.h5\")"
   ]
  },
  {
   "cell_type": "code",
   "execution_count": 6,
   "id": "05f3cf34",
   "metadata": {},
   "outputs": [],
   "source": [
    "from dataclasses import dataclass\n",
    "from pathlib import Path\n",
    "\n",
    "@dataclass\n",
    "class EvaluationConfig:\n",
    "    path_of_model:Path\n",
    "    training_data:Path\n",
    "    all_params:dict\n",
    "    mlflow_uri:str\n",
    "    params_image_size:list\n",
    "    params_batch_size:int"
   ]
  },
  {
   "cell_type": "code",
   "execution_count": 7,
   "id": "84a9c992",
   "metadata": {},
   "outputs": [],
   "source": [
    "from kidney_disease.constant import *\n",
    "from kidney_disease.utils.common import read_yaml,save_json,create_directories"
   ]
  },
  {
   "cell_type": "code",
   "execution_count": 8,
   "id": "eac15303",
   "metadata": {},
   "outputs": [],
   "source": [
    "class ConfigurationManager:\n",
    "    def __init__(self, config_filepath=CONFIG_FILE_PATH, params_filepath=PARAMS_FILE_PATH):\n",
    "        self.config=read_yaml(config_filepath)\n",
    "        self.params=read_yaml(params_filepath)\n",
    "\n",
    "        create_directories([self.config.artifacts_root])\n",
    "    \n",
    "    def get_evaluation_config(self)->EvaluationConfig:\n",
    "        eval_config=EvaluationConfig(\n",
    "            path_of_model=\"artifacts/training/model.h5\",\n",
    "            training_data=\"artifacts\\data_ingestion\\kidney-ct-scan-image\",\n",
    "            all_params=self.params,\n",
    "            mlflow_uri=\"https://dagshub.com/Jeevan880/kidney_disease.mlflow\",\n",
    "            params_image_size=self.params.IMAGE_SIZE,\n",
    "            params_batch_size=self.params.BATCH_SIZE\n",
    "        )\n",
    "        return eval_config"
   ]
  },
  {
   "cell_type": "code",
   "execution_count": 9,
   "id": "05c9f8ec",
   "metadata": {},
   "outputs": [],
   "source": [
    "import tensorflow as tf\n",
    "from pathlib import Path\n",
    "import mlflow\n",
    "import mlflow.keras\n",
    "from urllib.parse import urlparse"
   ]
  },
  {
   "cell_type": "code",
   "execution_count": null,
   "id": "207522c6",
   "metadata": {},
   "outputs": [],
   "source": [
    "class Evaluation:\n",
    "    def __init__(self,config:EvaluationConfig):\n",
    "        self.config=config\n",
    "    \n",
    "    def _valid_generator(self):\n",
    "        try:\n",
    "            import PIL\n",
    "            print(\"Pillow version:\", PIL.__version__)\n",
    "        except ImportError:\n",
    "            print(\"Pillow is not installed.\")\n",
    "            \n",
    "        datagenerator_kwargs=dict(\n",
    "            rescale=1./255,\n",
    "            validation_split=0.3\n",
    "        )\n",
    "        dataflow_kwargs=dict(\n",
    "            target_size=self.config.params_image_size[:-1],\n",
    "            batch_size=self.config.params_batch_size,\n",
    "            interpolation='bilinear'\n",
    "        )\n",
    "        valid_datagenerator=tf.keras.preprocessing.image.ImageDataGenerator(\n",
    "            **datagenerator_kwargs\n",
    "        )\n",
    "        self.valid_generator=valid_datagenerator.flow_from_directory(\n",
    "            directory=self.config.training_data,\n",
    "            subset='validation',\n",
    "            **dataflow_kwargs\n",
    "        )\n",
    "    @staticmethod\n",
    "    def load_model(path:Path)->tf.keras.Model:\n",
    "        return tf.keras.models.load_model(path)\n",
    "    def save_score(self):\n",
    "        scores={\"loss\":self.score[0],\"accuracy\":self.score[1]}\n",
    "        save_json(path=Path(\"scores.json\"),data=scores)\n",
    "    def evaluate_model(self):\n",
    "        self.model=self.load_model(self.config.path_of_model)\n",
    "        self._valid_generator()\n",
    "        self.score=self.model.evaluate(self.valid_generator)\n",
    "        self.save_score()\n",
    "    \n",
    "    def log_into_mlflow(self):\n",
    "        mlflow.set_registry_uri(self.config.mlflow_uri)\n",
    "        tracking_url_type_store = urlparse(mlflow.get_tracking_uri()).scheme\n",
    "        \n",
    "        with mlflow.start_run():\n",
    "            mlflow.log_params(self.config.all_params)\n",
    "            mlflow.log_metrics(\n",
    "                {\"loss\": self.score[0], \"accuracy\": self.score[1]}\n",
    "            )\n",
    "            # Model registry does not work with file store\n",
    "            if tracking_url_type_store != \"file\":\n",
    "\n",
    "                # Register the model\n",
    "                # There are other ways to use the Model Registry, which depends on the use case,\n",
    "                # please refer to the doc for more information:\n",
    "                # https://mlflow.org/docs/latest/model-registry.html#api-workflow\n",
    "                mlflow.keras.log_model(self.model, \"model\", registered_model_name=\"VGG16Model\")\n",
    "            else:\n",
    "                mlflow.keras.log_model(self.model, \"model\")"
   ]
  },
  {
   "cell_type": "code",
   "execution_count": 11,
   "id": "90f36bae",
   "metadata": {},
   "outputs": [],
   "source": [
    "import tqdm"
   ]
  },
  {
   "cell_type": "code",
   "execution_count": 12,
   "id": "69edaba8",
   "metadata": {},
   "outputs": [
    {
     "name": "stdout",
     "output_type": "stream",
     "text": [
      "[2025-04-16 23:23:21,170: INFO: common: yaml file: config\\config.yaml loaded successfully]\n",
      "[2025-04-16 23:23:21,185: INFO: common: yaml file: params.yaml loaded successfully]\n",
      "[2025-04-16 23:23:21,193: INFO: common: created directory at: artifacts]\n"
     ]
    },
    {
     "name": "stdout",
     "output_type": "stream",
     "text": [
      "Pillow version: 11.1.0\n",
      "Found 93 images belonging to 2 classes.\n",
      "6/6 [==============================] - 44s 7s/step - loss: 1.9626 - accuracy: 0.6559\n",
      "[2025-04-16 23:24:07,611: INFO: common: json file saved at: scores.json]\n"
     ]
    },
    {
     "name": "stderr",
     "output_type": "stream",
     "text": [
      "2025/04/16 23:24:09 WARNING mlflow.tensorflow: You are saving a TensorFlow Core model or Keras model without a signature. Inference with mlflow.pyfunc.spark_udf() will not work unless the model's pyfunc representation accepts pandas DataFrames as inference inputs.\n"
     ]
    },
    {
     "name": "stdout",
     "output_type": "stream",
     "text": [
      "[2025-04-16 23:24:15,743: WARNING: save: Found untraced functions such as _jit_compiled_convolution_op, _jit_compiled_convolution_op, _jit_compiled_convolution_op, _jit_compiled_convolution_op, _jit_compiled_convolution_op while saving (showing 5 of 14). These functions will not be directly callable after loading.]\n",
      "INFO:tensorflow:Assets written to: C:\\Users\\Tester\\AppData\\Local\\Temp\\tmpk00mz3rz\\model\\data\\model\\assets\n",
      "[2025-04-16 23:24:18,540: INFO: builder_impl: Assets written to: C:\\Users\\Tester\\AppData\\Local\\Temp\\tmpk00mz3rz\\model\\data\\model\\assets]\n"
     ]
    },
    {
     "name": "stderr",
     "output_type": "stream",
     "text": [
      "2025/04/16 23:25:01 WARNING mlflow.models.model: Model logged without a signature and input example. Please set `input_example` parameter when logging the model to auto infer the model signature.\n",
      "Registered model 'VGG16Model' already exists. Creating a new version of this model...\n",
      "2025/04/16 23:25:37 INFO mlflow.store.model_registry.abstract_store: Waiting up to 300 seconds for model version to finish creation. Model name: VGG16Model, version 3\n",
      "Created version '3' of model 'VGG16Model'.\n"
     ]
    },
    {
     "name": "stdout",
     "output_type": "stream",
     "text": [
      "🏃 View run inquisitive-koi-420 at: https://dagshub.com/Jeevan880/kidney_disease.mlflow/#/experiments/0/runs/7c3b8a4890734a0abf31b16ed6496868\n",
      "🧪 View experiment at: https://dagshub.com/Jeevan880/kidney_disease.mlflow/#/experiments/0\n"
     ]
    }
   ],
   "source": [
    "try:\n",
    "    config=ConfigurationManager()\n",
    "    eval_config=config.get_evaluation_config()\n",
    "    evaluation=Evaluation(eval_config)\n",
    "    evaluation.evaluate_model()\n",
    "    evaluation.log_into_mlflow()\n",
    "except Exception as e:\n",
    "    raise e"
   ]
  },
  {
   "cell_type": "code",
   "execution_count": null,
   "id": "5507caa1",
   "metadata": {},
   "outputs": [],
   "source": []
  },
  {
   "cell_type": "code",
   "execution_count": null,
   "id": "e0d7c560",
   "metadata": {},
   "outputs": [],
   "source": []
  },
  {
   "cell_type": "code",
   "execution_count": null,
   "id": "acefcb47",
   "metadata": {},
   "outputs": [],
   "source": []
  },
  {
   "cell_type": "code",
   "execution_count": null,
   "id": "45fd8679",
   "metadata": {},
   "outputs": [],
   "source": []
  }
 ],
 "metadata": {
  "kernelspec": {
   "display_name": ".venv",
   "language": "python",
   "name": "python3"
  },
  "language_info": {
   "codemirror_mode": {
    "name": "ipython",
    "version": 3
   },
   "file_extension": ".py",
   "mimetype": "text/x-python",
   "name": "python",
   "nbconvert_exporter": "python",
   "pygments_lexer": "ipython3",
   "version": "3.11.9"
  }
 },
 "nbformat": 4,
 "nbformat_minor": 5
}
